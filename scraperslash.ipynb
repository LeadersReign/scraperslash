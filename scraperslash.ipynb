{
  "nbformat": 4,
  "nbformat_minor": 0,
  "metadata": {
    "colab": {
      "provenance": [],
      "authorship_tag": "ABX9TyOmJYVJAUS+hHmlhXN5sCn9",
      "include_colab_link": true
    },
    "kernelspec": {
      "name": "python3",
      "display_name": "Python 3"
    },
    "language_info": {
      "name": "python"
    }
  },
  "cells": [
    {
      "cell_type": "markdown",
      "metadata": {
        "id": "view-in-github",
        "colab_type": "text"
      },
      "source": [
        "<a href=\"https://colab.research.google.com/github/LeadersReign/scraperslash/blob/main/scraperslash.ipynb\" target=\"_parent\"><img src=\"https://colab.research.google.com/assets/colab-badge.svg\" alt=\"Open In Colab\"/></a>"
      ]
    },
    {
      "cell_type": "code",
      "source": [
        "!pip install requests pandas"
      ],
      "metadata": {
        "id": "5OCRnALIOVjR"
      },
      "execution_count": null,
      "outputs": []
    },
    {
      "cell_type": "code",
      "execution_count": null,
      "metadata": {
        "id": "jSqhBDmqN9Gi"
      },
      "outputs": [],
      "source": [
        "import requests\n",
        "import time\n",
        "import pandas as pd"
      ]
    },
    {
      "cell_type": "code",
      "source": [
        "subreddits = [\"zelda\"]\n",
        "keywords = [\"beedle\"]\n",
        "limit = 100  # number of posts to fetch per subreddit"
      ],
      "metadata": {
        "id": "v6Ylg--oOcjk"
      },
      "execution_count": null,
      "outputs": []
    },
    {
      "cell_type": "code",
      "source": [
        "def contains_keyword(text, keywords):\n",
        "    return any(kw.lower() in text.lower() for kw in keywords)\n",
        "\n",
        "def fetch_posts(subreddit, limit=100):\n",
        "    url = f\"https://api.pushshift.io/reddit/search/submission/?subreddit={subreddit}&size={limit}&sort=desc\"\n",
        "    response = requests.get(url)\n",
        "    if response.status_code != 200:\n",
        "        print(f\"Failed to fetch from {subreddit}\")\n",
        "        return []\n",
        "    return response.json().get(\"data\", [])\n"
      ],
      "metadata": {
        "id": "7PuZswm7OjGb"
      },
      "execution_count": null,
      "outputs": []
    },
    {
      "cell_type": "code",
      "source": [
        "results = []\n",
        "for sub in subreddits:\n",
        "    print(f\"Searching in r/{sub}\")\n",
        "    posts = fetch_posts(sub, limit)\n",
        "    for post in posts:\n",
        "        title = post.get(\"title\", \"\")\n",
        "        selftext = post.get(\"selftext\", \"\")\n",
        "        if contains_keyword(title + \" \" + selftext, keywords):\n",
        "            results.append({\n",
        "                \"subreddit\": sub,\n",
        "                \"title\": title,\n",
        "                \"author\": post.get(\"author\"),\n",
        "                \"url\": f\"https://www.reddit.com{post.get('permalink')}\",\n",
        "                \"created_utc\": time.strftime('%Y-%m-%d %H:%M:%S', time.gmtime(post[\"created_utc\"]))\n",
        "            })\n",
        "\n",
        "df = pd.DataFrame(results)\n",
        "df.head()"
      ],
      "metadata": {
        "id": "H1zxfBzQO3QR"
      },
      "execution_count": null,
      "outputs": []
    },
    {
      "cell_type": "code",
      "source": [],
      "metadata": {
        "id": "OivxXTBDO9VB"
      },
      "execution_count": null,
      "outputs": []
    },
    {
      "cell_type": "markdown",
      "source": [
        "OPTIONAL DOWNLOAD CODE:\n",
        "\n",
        "df.to_csv(\"keyword_matches.csv\", index=False)\n",
        "\n",
        "# Allow client to download the CSV\n",
        "from google.colab import files\n",
        "files.download(\"keyword_matches.csv\")"
      ],
      "metadata": {
        "id": "ICB2SDIfO-sj"
      }
    },
    {
      "cell_type": "markdown",
      "source": [
        "# 🔍 Reddit Keyword Scraper\n",
        "This notebook searches recent posts in specified subreddits for given keywords using the Pushshift API.\n",
        "\n",
        "- Modify the `subreddits` and `keywords` lists\n",
        "- Run the cells below to fetch, filter, and download matching posts\n"
      ],
      "metadata": {
        "id": "7MMpAgRrO-5D"
      }
    }
  ]
}