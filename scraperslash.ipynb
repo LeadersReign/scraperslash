{
  "nbformat": 4,
  "nbformat_minor": 0,
  "metadata": {
    "colab": {
      "provenance": [],
      "authorship_tag": "ABX9TyOWieV3Q6qwSbVC9mP3mM24",
      "include_colab_link": true
    },
    "kernelspec": {
      "name": "python3",
      "display_name": "Python 3"
    },
    "language_info": {
      "name": "python"
    }
  },
  "cells": [
    {
      "cell_type": "markdown",
      "metadata": {
        "id": "view-in-github",
        "colab_type": "text"
      },
      "source": [
        "<a href=\"https://colab.research.google.com/github/LeadersReign/scraperslash/blob/main/scraperslash.ipynb\" target=\"_parent\"><img src=\"https://colab.research.google.com/assets/colab-badge.svg\" alt=\"Open In Colab\"/></a>"
      ]
    },
    {
      "cell_type": "code",
      "source": [
        "!pip install praw pandas"
      ],
      "metadata": {
        "id": "5OCRnALIOVjR"
      },
      "execution_count": null,
      "outputs": []
    },
    {
      "cell_type": "code",
      "execution_count": null,
      "metadata": {
        "id": "jSqhBDmqN9Gi"
      },
      "outputs": [],
      "source": [
        "import praw\n",
        "from datetime import datetime\n",
        "import pandas as pd"
      ]
    },
    {
      "cell_type": "code",
      "source": [
        "import getpass\n",
        "\n",
        "client_id = getpass.getpass(\"Enter Reddit client ID: XdFqye1RnN5KgxOCX19j_Q\")\n",
        "client_secret = getpass.getpass(\"Enter Reddit client secret: 5HiutIjO_8ocCN1S8iVJQGDEY6AAiw\")\n",
        "user_agent = \"reddit keyword scraper by /u/scraperslash\"\n",
        "\n",
        "reddit = praw.Reddit(\n",
        "    client_id=client_id,\n",
        "    client_secret=client_secret,\n",
        "    user_agent=user_agent\n",
        ")\n",
        "\n",
        "# Confirm it works (returns None for read-only apps)\n",
        "print(\"Authenticated as:\", reddit.user.me())\n"
      ],
      "metadata": {
        "id": "yL29JAvVX3Jp"
      },
      "execution_count": null,
      "outputs": []
    },
    {
      "cell_type": "code",
      "source": [
        "subreddits = [\"zelda\"]\n",
        "keywords = [\"beedle\"]\n",
        "limit = 100  # number of posts to fetch per subreddit"
      ],
      "metadata": {
        "id": "v6Ylg--oOcjk"
      },
      "execution_count": null,
      "outputs": []
    },
    {
      "cell_type": "code",
      "source": [
        "results = []\n",
        "\n",
        "for sub in subreddits:\n",
        "    print(f\"Searching in r/{sub}\")\n",
        "    for post in reddit.subreddit(sub).new(limit=limit):\n",
        "        text = f\"{post.title} {post.selftext}\"\n",
        "        if any(kw.lower() in text.lower() for kw in keywords):\n",
        "            results.append({\n",
        "                \"subreddit\": sub,\n",
        "                \"title\": post.title,\n",
        "                \"author\": post.author.name if post.author else \"[deleted]\",\n",
        "                \"url\": post.url,\n",
        "                \"created_utc\": datetime.utcfromtimestamp(post.created_utc).strftime('%Y-%m-%d %H:%M:%S')\n",
        "            })\n",
        "\n",
        "df = pd.DataFrame(results)\n",
        "df.head()"
      ],
      "metadata": {
        "id": "H1zxfBzQO3QR"
      },
      "execution_count": null,
      "outputs": []
    },
    {
      "cell_type": "code",
      "source": [],
      "metadata": {
        "id": "OivxXTBDO9VB"
      },
      "execution_count": null,
      "outputs": []
    },
    {
      "cell_type": "markdown",
      "source": [
        "OPTIONAL DOWNLOAD CODE:\n",
        "\n",
        "df.to_csv(\"keyword_matches.csv\", index=False)\n",
        "\n",
        "# Allow client to download the CSV\n",
        "from google.colab import files\n",
        "files.download(\"keyword_matches.csv\")"
      ],
      "metadata": {
        "id": "ICB2SDIfO-sj"
      }
    },
    {
      "cell_type": "markdown",
      "source": [
        "# 🔍 Reddit Keyword Scraper\n",
        "This notebook searches recent posts in specified subreddits for given keywords using the Pushshift API.\n",
        "\n",
        "- Modify the `subreddits` and `keywords` lists\n",
        "- Run the cells below to fetch, filter, and download matching posts\n"
      ],
      "metadata": {
        "id": "7MMpAgRrO-5D"
      }
    }
  ]
}